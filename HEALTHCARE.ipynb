{
 "cells": [
  {
   "cell_type": "code",
   "execution_count": 5,
   "id": "d350f45d-0d47-4d2b-877c-d20d0ac19405",
   "metadata": {},
   "outputs": [],
   "source": [
    "import pandas as pd\n",
    "import scipy as scipy\n",
    "from scipy.stats import chi2_contingency"
   ]
  },
  {
   "cell_type": "code",
   "execution_count": 6,
   "id": "cd8de151-e7d9-4318-8386-602db49566a0",
   "metadata": {},
   "outputs": [],
   "source": [
    "df=pd.read_csv(r\"C:\\Users\\User\\Downloads\\healthcare_dataset.csv\")"
   ]
  },
  {
   "cell_type": "code",
   "execution_count": 9,
   "id": "198b6b04-9922-4716-98c4-a80ce5598f09",
   "metadata": {},
   "outputs": [
    {
     "data": {
      "text/html": [
       "<div>\n",
       "<style scoped>\n",
       "    .dataframe tbody tr th:only-of-type {\n",
       "        vertical-align: middle;\n",
       "    }\n",
       "\n",
       "    .dataframe tbody tr th {\n",
       "        vertical-align: top;\n",
       "    }\n",
       "\n",
       "    .dataframe thead th {\n",
       "        text-align: right;\n",
       "    }\n",
       "</style>\n",
       "<table border=\"1\" class=\"dataframe\">\n",
       "  <thead>\n",
       "    <tr style=\"text-align: right;\">\n",
       "      <th></th>\n",
       "      <th>Patient_ID</th>\n",
       "      <th>Age</th>\n",
       "      <th>Gender</th>\n",
       "      <th>BMI</th>\n",
       "      <th>Blood_Pressure</th>\n",
       "      <th>Cholesterol_Level</th>\n",
       "      <th>Diabetes</th>\n",
       "      <th>Hospital_Visits_Per_Year</th>\n",
       "      <th>Medication_Adherence</th>\n",
       "      <th>Smoking_Status</th>\n",
       "      <th>Exercise_Frequency</th>\n",
       "    </tr>\n",
       "  </thead>\n",
       "  <tbody>\n",
       "    <tr>\n",
       "      <th>0</th>\n",
       "      <td>P001</td>\n",
       "      <td>69</td>\n",
       "      <td>Male</td>\n",
       "      <td>33.8</td>\n",
       "      <td>Hypertension</td>\n",
       "      <td>Normal</td>\n",
       "      <td>No</td>\n",
       "      <td>0</td>\n",
       "      <td>Poor</td>\n",
       "      <td>Non-Smoker</td>\n",
       "      <td>0</td>\n",
       "    </tr>\n",
       "    <tr>\n",
       "      <th>1</th>\n",
       "      <td>P002</td>\n",
       "      <td>32</td>\n",
       "      <td>Female</td>\n",
       "      <td>21.7</td>\n",
       "      <td>Hypertension</td>\n",
       "      <td>Normal</td>\n",
       "      <td>No</td>\n",
       "      <td>0</td>\n",
       "      <td>Good</td>\n",
       "      <td>Smoker</td>\n",
       "      <td>5</td>\n",
       "    </tr>\n",
       "    <tr>\n",
       "      <th>2</th>\n",
       "      <td>P003</td>\n",
       "      <td>78</td>\n",
       "      <td>Male</td>\n",
       "      <td>40.0</td>\n",
       "      <td>Hypertension</td>\n",
       "      <td>Low</td>\n",
       "      <td>No</td>\n",
       "      <td>7</td>\n",
       "      <td>Good</td>\n",
       "      <td>Smoker</td>\n",
       "      <td>2</td>\n",
       "    </tr>\n",
       "    <tr>\n",
       "      <th>3</th>\n",
       "      <td>P004</td>\n",
       "      <td>38</td>\n",
       "      <td>Male</td>\n",
       "      <td>24.2</td>\n",
       "      <td>Normal</td>\n",
       "      <td>High</td>\n",
       "      <td>No</td>\n",
       "      <td>1</td>\n",
       "      <td>Good</td>\n",
       "      <td>Smoker</td>\n",
       "      <td>6</td>\n",
       "    </tr>\n",
       "    <tr>\n",
       "      <th>4</th>\n",
       "      <td>P005</td>\n",
       "      <td>41</td>\n",
       "      <td>Female</td>\n",
       "      <td>39.5</td>\n",
       "      <td>Prehypertension</td>\n",
       "      <td>High</td>\n",
       "      <td>No</td>\n",
       "      <td>11</td>\n",
       "      <td>Good</td>\n",
       "      <td>Smoker</td>\n",
       "      <td>0</td>\n",
       "    </tr>\n",
       "  </tbody>\n",
       "</table>\n",
       "</div>"
      ],
      "text/plain": [
       "  Patient_ID  Age  Gender   BMI   Blood_Pressure Cholesterol_Level Diabetes  \\\n",
       "0       P001   69    Male  33.8     Hypertension            Normal       No   \n",
       "1       P002   32  Female  21.7     Hypertension            Normal       No   \n",
       "2       P003   78    Male  40.0     Hypertension               Low       No   \n",
       "3       P004   38    Male  24.2           Normal              High       No   \n",
       "4       P005   41  Female  39.5  Prehypertension              High       No   \n",
       "\n",
       "   Hospital_Visits_Per_Year Medication_Adherence Smoking_Status  \\\n",
       "0                         0                 Poor     Non-Smoker   \n",
       "1                         0                 Good         Smoker   \n",
       "2                         7                 Good         Smoker   \n",
       "3                         1                 Good         Smoker   \n",
       "4                        11                 Good         Smoker   \n",
       "\n",
       "   Exercise_Frequency  \n",
       "0                   0  \n",
       "1                   5  \n",
       "2                   2  \n",
       "3                   6  \n",
       "4                   0  "
      ]
     },
     "execution_count": 9,
     "metadata": {},
     "output_type": "execute_result"
    }
   ],
   "source": [
    "df.head()"
   ]
  },
  {
   "cell_type": "code",
   "execution_count": 17,
   "id": "2a1cec96-a7b7-40a2-ad85-308a8c728ea7",
   "metadata": {},
   "outputs": [],
   "source": [
    "contingency_table=pd.crosstab(df['Smoking_Status'],df['Blood_Pressure'])"
   ]
  },
  {
   "cell_type": "code",
   "execution_count": 21,
   "id": "f7c60d9b-1bcc-4414-9d50-c9368e496013",
   "metadata": {},
   "outputs": [
    {
     "data": {
      "text/html": [
       "<div>\n",
       "<style scoped>\n",
       "    .dataframe tbody tr th:only-of-type {\n",
       "        vertical-align: middle;\n",
       "    }\n",
       "\n",
       "    .dataframe tbody tr th {\n",
       "        vertical-align: top;\n",
       "    }\n",
       "\n",
       "    .dataframe thead th {\n",
       "        text-align: right;\n",
       "    }\n",
       "</style>\n",
       "<table border=\"1\" class=\"dataframe\">\n",
       "  <thead>\n",
       "    <tr style=\"text-align: right;\">\n",
       "      <th>Blood_Pressure</th>\n",
       "      <th>Hypertension</th>\n",
       "      <th>Normal</th>\n",
       "      <th>Prehypertension</th>\n",
       "    </tr>\n",
       "    <tr>\n",
       "      <th>Smoking_Status</th>\n",
       "      <th></th>\n",
       "      <th></th>\n",
       "      <th></th>\n",
       "    </tr>\n",
       "  </thead>\n",
       "  <tbody>\n",
       "    <tr>\n",
       "      <th>Non-Smoker</th>\n",
       "      <td>15</td>\n",
       "      <td>42</td>\n",
       "      <td>19</td>\n",
       "    </tr>\n",
       "    <tr>\n",
       "      <th>Smoker</th>\n",
       "      <td>9</td>\n",
       "      <td>10</td>\n",
       "      <td>5</td>\n",
       "    </tr>\n",
       "  </tbody>\n",
       "</table>\n",
       "</div>"
      ],
      "text/plain": [
       "Blood_Pressure  Hypertension  Normal  Prehypertension\n",
       "Smoking_Status                                       \n",
       "Non-Smoker                15      42               19\n",
       "Smoker                     9      10                5"
      ]
     },
     "execution_count": 21,
     "metadata": {},
     "output_type": "execute_result"
    }
   ],
   "source": [
    "chi2,p,dof,expected=chi2_contingency(contingency_table)\n",
    "contingency_table"
   ]
  },
  {
   "cell_type": "code",
   "execution_count": 23,
   "id": "00c6ae40-cea4-4890-a29e-d382ae9139df",
   "metadata": {},
   "outputs": [
    {
     "data": {
      "text/plain": [
       "3.1784188034188037"
      ]
     },
     "execution_count": 23,
     "metadata": {},
     "output_type": "execute_result"
    }
   ],
   "source": [
    "chi2"
   ]
  },
  {
   "cell_type": "code",
   "execution_count": 25,
   "id": "f58e3aa7-fe45-48f9-8e14-7319d61bf115",
   "metadata": {},
   "outputs": [
    {
     "data": {
      "text/plain": [
       "0.20408689872246732"
      ]
     },
     "execution_count": 25,
     "metadata": {},
     "output_type": "execute_result"
    }
   ],
   "source": [
    "p"
   ]
  },
  {
   "cell_type": "code",
   "execution_count": 27,
   "id": "a324e19e-0ce7-408e-9bf7-563a7a8b038f",
   "metadata": {},
   "outputs": [
    {
     "data": {
      "text/plain": [
       "2"
      ]
     },
     "execution_count": 27,
     "metadata": {},
     "output_type": "execute_result"
    }
   ],
   "source": [
    "dof"
   ]
  },
  {
   "cell_type": "code",
   "execution_count": 29,
   "id": "1a8272b6-ba1a-40b8-ba6b-703fa774b363",
   "metadata": {},
   "outputs": [
    {
     "data": {
      "text/plain": [
       "array([[18.24, 39.52, 18.24],\n",
       "       [ 5.76, 12.48,  5.76]])"
      ]
     },
     "execution_count": 29,
     "metadata": {},
     "output_type": "execute_result"
    }
   ],
   "source": [
    "expected"
   ]
  },
  {
   "cell_type": "code",
   "execution_count": null,
   "id": "2b6ff0a4-6915-4c81-895d-339cb0fcb562",
   "metadata": {},
   "outputs": [],
   "source": [
    "#ANOVA=NUMERICAL$CATEGORICAL\n",
    "#CHISQUARE=CATEGORICAL\n",
    "#T-TEST=MEANS"
   ]
  },
  {
   "cell_type": "code",
   "execution_count": null,
   "id": "bf0d9c1c-dd4d-4a13-a478-fc85429ac6a9",
   "metadata": {},
   "outputs": [],
   "source": [
    "#pd.set_option('Display max_columns',30)\n"
   ]
  },
  {
   "cell_type": "code",
   "execution_count": 31,
   "id": "edee010d-bbf4-4748-ad84-e6f578a504e0",
   "metadata": {},
   "outputs": [],
   "source": [
    "contingency_table=pd.crosstab(df['Medication_Adherence'],df['Cholesterol_Level'])"
   ]
  },
  {
   "cell_type": "code",
   "execution_count": 33,
   "id": "c1a7c147-0024-4ee3-92d8-5cafac8d9865",
   "metadata": {},
   "outputs": [],
   "source": [
    "chi2,p,dof,expected=chi2_contingency(contingency_table)"
   ]
  },
  {
   "cell_type": "code",
   "execution_count": 35,
   "id": "92d5c5b9-787e-4e3f-9757-3b10961a0475",
   "metadata": {},
   "outputs": [
    {
     "data": {
      "text/html": [
       "<div>\n",
       "<style scoped>\n",
       "    .dataframe tbody tr th:only-of-type {\n",
       "        vertical-align: middle;\n",
       "    }\n",
       "\n",
       "    .dataframe tbody tr th {\n",
       "        vertical-align: top;\n",
       "    }\n",
       "\n",
       "    .dataframe thead th {\n",
       "        text-align: right;\n",
       "    }\n",
       "</style>\n",
       "<table border=\"1\" class=\"dataframe\">\n",
       "  <thead>\n",
       "    <tr style=\"text-align: right;\">\n",
       "      <th>Cholesterol_Level</th>\n",
       "      <th>High</th>\n",
       "      <th>Low</th>\n",
       "      <th>Normal</th>\n",
       "    </tr>\n",
       "    <tr>\n",
       "      <th>Medication_Adherence</th>\n",
       "      <th></th>\n",
       "      <th></th>\n",
       "      <th></th>\n",
       "    </tr>\n",
       "  </thead>\n",
       "  <tbody>\n",
       "    <tr>\n",
       "      <th>Good</th>\n",
       "      <td>12</td>\n",
       "      <td>15</td>\n",
       "      <td>20</td>\n",
       "    </tr>\n",
       "    <tr>\n",
       "      <th>Moderate</th>\n",
       "      <td>8</td>\n",
       "      <td>6</td>\n",
       "      <td>19</td>\n",
       "    </tr>\n",
       "    <tr>\n",
       "      <th>Poor</th>\n",
       "      <td>5</td>\n",
       "      <td>4</td>\n",
       "      <td>11</td>\n",
       "    </tr>\n",
       "  </tbody>\n",
       "</table>\n",
       "</div>"
      ],
      "text/plain": [
       "Cholesterol_Level     High  Low  Normal\n",
       "Medication_Adherence                   \n",
       "Good                    12   15      20\n",
       "Moderate                 8    6      19\n",
       "Poor                     5    4      11"
      ]
     },
     "execution_count": 35,
     "metadata": {},
     "output_type": "execute_result"
    }
   ],
   "source": [
    "contingency_table"
   ]
  },
  {
   "cell_type": "code",
   "execution_count": 37,
   "id": "2569934a-e206-4a6a-b2c1-1c7af9d1dc39",
   "metadata": {},
   "outputs": [
    {
     "data": {
      "text/plain": [
       "2.725531914893617"
      ]
     },
     "execution_count": 37,
     "metadata": {},
     "output_type": "execute_result"
    }
   ],
   "source": [
    "chi2"
   ]
  },
  {
   "cell_type": "code",
   "execution_count": 39,
   "id": "4795ea53-e3b1-44c7-9c00-878fe8f15814",
   "metadata": {},
   "outputs": [
    {
     "data": {
      "text/plain": [
       "0.6047543062438825"
      ]
     },
     "execution_count": 39,
     "metadata": {},
     "output_type": "execute_result"
    }
   ],
   "source": [
    "p"
   ]
  },
  {
   "cell_type": "code",
   "execution_count": 41,
   "id": "d2640d7b-d990-458b-8f78-a0c0c9233879",
   "metadata": {},
   "outputs": [
    {
     "data": {
      "text/plain": [
       "4"
      ]
     },
     "execution_count": 41,
     "metadata": {},
     "output_type": "execute_result"
    }
   ],
   "source": [
    "dof"
   ]
  },
  {
   "cell_type": "code",
   "execution_count": 45,
   "id": "ccfb78b1-fb3c-4106-9446-6d66bfeb8a23",
   "metadata": {},
   "outputs": [
    {
     "data": {
      "text/plain": [
       "array([[11.75, 11.75, 23.5 ],\n",
       "       [ 8.25,  8.25, 16.5 ],\n",
       "       [ 5.  ,  5.  , 10.  ]])"
      ]
     },
     "execution_count": 45,
     "metadata": {},
     "output_type": "execute_result"
    }
   ],
   "source": [
    "expected"
   ]
  }
 ],
 "metadata": {
  "kernelspec": {
   "display_name": "Python 3 (ipykernel)",
   "language": "python",
   "name": "python3"
  },
  "language_info": {
   "codemirror_mode": {
    "name": "ipython",
    "version": 3
   },
   "file_extension": ".py",
   "mimetype": "text/x-python",
   "name": "python",
   "nbconvert_exporter": "python",
   "pygments_lexer": "ipython3",
   "version": "3.12.4"
  }
 },
 "nbformat": 4,
 "nbformat_minor": 5
}
